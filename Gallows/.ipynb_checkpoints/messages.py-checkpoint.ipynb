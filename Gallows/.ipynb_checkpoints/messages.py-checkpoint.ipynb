{
 "cells": [
  {
   "cell_type": "code",
   "execution_count": null,
   "metadata": {},
   "outputs": [],
   "source": [
    "success = ['В загаданном слове есть такая буква.',\n",
    "           'Вы угадали букву!',\n",
    "           'Вам повезло, такая буква есть.',\n",
    "           'Да, такая в этом слове есть.']\n",
    "\n",
    "failure = ['Увы, такой буквы нет.',\n",
    "           'К сожалению, нет.',\n",
    "           'Нет, в слове какие-то другие буквы.',\n",
    "           'Ну, вам повезет в следующий раз.']\n"
   ]
  }
 ],
 "metadata": {
  "kernelspec": {
   "display_name": "Python 3",
   "language": "python",
   "name": "python3"
  },
  "language_info": {
   "codemirror_mode": {
    "name": "ipython",
    "version": 3
   },
   "file_extension": ".py",
   "mimetype": "text/x-python",
   "name": "python",
   "nbconvert_exporter": "python",
   "pygments_lexer": "ipython3",
   "version": "3.6.1"
  }
 },
 "nbformat": 4,
 "nbformat_minor": 2
}
