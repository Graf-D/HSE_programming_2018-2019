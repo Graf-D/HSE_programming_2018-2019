{
 "cells": [
  {
   "cell_type": "code",
   "execution_count": 2,
   "metadata": {},
   "outputs": [],
   "source": [
    "import requests\n",
    "from collections import defaultdict, Counter\n",
    "\n",
    "\n",
    "BASE_URL = 'https://api.github.com'\n",
    "TOKEN = 'd63177aa57f59b0834eb45d8e52f27303ab9d8d4'\n",
    "\n",
    "\n",
    "'''\n",
    "# uncomment it if Counter would be bad\n",
    "class MyDict(dict):\n",
    "    def __add__(self, other):\n",
    "        for key, value in other.items():\n",
    "            if key in self.keys():\n",
    "                self[key] += value\n",
    "            else:\n",
    "                self[key] = value\n",
    "        return self\n",
    "'''\n",
    "\n",
    "\n",
    "def choose_user(all_users):\n",
    "    print('Список всех доступных пользователей:\\n',\n",
    "          ', '.join(all_users), sep='', end='\\n\\n')\n",
    "    username = input('Введите имя пользователя из этого списка: ')\n",
    "    while username not in all_users:\n",
    "        username = input('Такого пользователя нет в списке. Введите заново: ')\n",
    "    return username\n",
    "\n",
    "\n",
    "def get_repos(username):\n",
    "    repos = []\n",
    "    page = 1\n",
    "    while True:\n",
    "        curr_repos = requests.get(\n",
    "            '{}/users/{}/repos?page={}&per_page=100&access_token={}'.format(BASE_URL, username, page, TOKEN)\n",
    "        ).json()\n",
    "        if not curr_repos:\n",
    "            break\n",
    "\n",
    "        repos += curr_repos\n",
    "        page += 1\n",
    "    return repos\n",
    "\n",
    "\n",
    "def print_names_and_descr(repos):\n",
    "    # красивый вывод названий и описаний репозиториев\n",
    "    print('\\nСписок репозиториев с описаниями:\\n')\n",
    "    for rep in repos:\n",
    "        description = rep['description']\n",
    "        if description is None:\n",
    "            description = 'No description :('\n",
    "        print(rep['name'], description, sep='\\n', end='\\n\\n')\n",
    "\n",
    "\n",
    "def count_languages(repos):\n",
    "    languages_using = defaultdict(int)\n",
    "    for rep in repos:\n",
    "        languages_using[rep['language']] += 1\n",
    "    try:\n",
    "        del languages_using[None]  # отсутствие языка – не язык\n",
    "    except KeyError:\n",
    "        pass\n",
    "    return languages_using\n",
    "\n",
    "\n",
    "def get_followers(username):\n",
    "    followers = []\n",
    "    page = 1\n",
    "    while True:\n",
    "        curr_followers = requests.get(\n",
    "            '{}/users/{}/followers?page={}&per_page=100&access_token={}'.format(BASE_URL, username, page, TOKEN)\n",
    "        ).json()\n",
    "        if not curr_followers:\n",
    "            break\n",
    "        followers += curr_followers\n",
    "        page += 1\n",
    "    return followers\n",
    "\n",
    "\n",
    "def right_grammar_case(number):\n",
    "    if number % 10 == 1:\n",
    "        return 'репозитории'\n",
    "    else:\n",
    "        return 'репозиториях'"
   ]
  },
  {
   "cell_type": "code",
   "execution_count": 3,
   "metadata": {},
   "outputs": [
    {
     "name": "stdout",
     "output_type": "stream",
     "text": [
      "Список всех доступных пользователей:\n",
      "elmiram, maryszmary, lizaku, nevmenandr, ancatmara, roctbb, akutuzov, agricolamz, lehkost, kylepjohnson, mikekestemont, demidovakatya, shwars, JelteF, timgraham, arogozhnikov, jasny, bcongdon, whyisjake\n",
      "\n",
      "Введите имя пользователя из этого списка: elmiram\n",
      "Вы выбрали пользователя elmiram. Загружаю репозитории.\n"
     ]
    }
   ],
   "source": [
    "# в users.txt лежит список всех юзеров\n",
    "with open('users.txt', 'r') as f:\n",
    "    users = f.read().split()\n",
    "\n",
    "# выбор пользователя из списка\n",
    "username = choose_user(users)\n",
    "print('Вы выбрали пользователя {}. Загружаю репозитории.'.format(username))"
   ]
  },
  {
   "cell_type": "code",
   "execution_count": 4,
   "metadata": {},
   "outputs": [
    {
     "name": "stdout",
     "output_type": "stream",
     "text": [
      "\n",
      "Список репозиториев с описаниями:\n",
      "\n",
      "19thcentury\n",
      "No description :(\n",
      "\n",
      "2016learnpython\n",
      "Python Teaching, Seminars for 2nd year students of School of Linguistics NRU HSE\n",
      "\n",
      "2017learnpython\n",
      "Python Teaching, Seminars for 3rd year students of School of Linguistics NRU HSE\n",
      "\n",
      "animal_sounds_graph_project\n",
      "No description :(\n",
      "\n",
      "ASD_children_corpus\n",
      "No description :(\n",
      "\n",
      "children_texts_corpus\n",
      "StartWrit corpus is a collection of texts written by elementary school children.\n",
      "\n",
      "computer-science-flash-cards\n",
      "Mini website for testing both general CS knowledge and enforce coding practice and common algorithm/data structure memorization.\n",
      "\n",
      "constructicon\n",
      "No description :(\n",
      "\n",
      "elmiram.github.io\n",
      "Resume\n",
      "\n",
      "EmotionAnalysisInVideo\n",
      "Tracker of basic emotions of a movie character built with Microsoft Computer Vision Services\n",
      "\n",
      "google-interview-university\n",
      "A complete daily plan for studying to become a Google software engineer.\n",
      "\n",
      "HarryPotterBot\n",
      "Bot uses words from Harry Potter books to generate phases.\n",
      "\n",
      "hh-1-1-git-commands\n",
      "No description :(\n",
      "\n",
      "hh-1-1-repoA\n",
      "No description :(\n",
      "\n",
      "hh-1-1-repoB\n",
      "No description :(\n",
      "\n",
      "hh-1-2-frontik-no-testing\n",
      "No description :(\n",
      "\n",
      "hh-1-2-frontik-testing\n",
      "No description :(\n",
      "\n",
      "hh-1-2-git-commands\n",
      "No description :(\n",
      "\n",
      "hh-unix-assignment\n",
      "No description :(\n",
      "\n",
      "homework\n",
      "this is programming homework\n",
      "\n",
      "hselingprojects\n",
      "Website to showcase projects that are developed at School of Linguistics\n",
      "\n",
      "learner_corpus\n",
      "No description :(\n",
      "\n",
      "logo_compiler\n",
      "No description :(\n",
      "\n",
      "pythonvjs\n",
      "Python versus JS: comparative tables\n",
      "\n",
      "riichicount\n",
      "Riichi mahjong: test on hand cost calculation. riichicount.pythonanywhere.com\n",
      "\n",
      "RusDisamb\n",
      "Scripts for disambiguation workshop\n",
      "\n",
      "russian_learner_corpus\n",
      "Russian Learner Corpus, a platform for corpus search and annotation\n",
      "\n",
      "RusTokenizer\n",
      "Splitter and tokenizer for Russian\n",
      "\n",
      "seq2seq_chatbot\n",
      "Sequence-to-Sequence chatbot using tensorflow\n",
      "\n",
      "txt2prs\n",
      "txt2prs\n",
      "\n",
      "vd\n",
      "Online dictionary for NRU HSE School of Linguistics\n",
      "\n",
      "Yiddish\n",
      "Disambiguation for Yiddish\n",
      "\n"
     ]
    }
   ],
   "source": [
    "# вывод названий и описаний\n",
    "repos = get_repos(username)\n",
    "print_names_and_descr(repos)"
   ]
  },
  {
   "cell_type": "code",
   "execution_count": 5,
   "metadata": {},
   "outputs": [
    {
     "name": "stdout",
     "output_type": "stream",
     "text": [
      "elmiram пишет на JavaScript, Jupyter Notebook, CSS, HTML, Python, C#, Shell.\n",
      "JavaScript используется в 6 репозиториях.\n",
      "Jupyter Notebook используется в 2 репозиториях.\n",
      "CSS используется в 1 репозитории.\n",
      "HTML используется в 5 репозиториях.\n",
      "Python используется в 11 репозитории.\n",
      "C# используется в 1 репозитории.\n",
      "Shell используется в 1 репозитории.\n"
     ]
    }
   ],
   "source": [
    "languages_stat = count_languages(repos)\n",
    "\n",
    "# все языки пользователя\n",
    "print('{} пишет на'.format(username),\n",
    "      ', '.join(languages_stat.keys()), end='.\\n')\n",
    "\n",
    "# статистика по использованию языков в репозиториях\n",
    "for lang, counter in languages_stat.items():\n",
    "    print('{} используется в {} {}.'.format(lang, counter, right_grammar_case(counter)))"
   ]
  },
  {
   "cell_type": "code",
   "execution_count": 14,
   "metadata": {},
   "outputs": [],
   "source": [
    "users_repos = {}\n",
    "for user in users:\n",
    "    users_repos[user] = get_repos(user)"
   ]
  },
  {
   "cell_type": "code",
   "execution_count": 15,
   "metadata": {},
   "outputs": [
    {
     "name": "stdout",
     "output_type": "stream",
     "text": [
      "\n",
      "Больше всего (150) репозиториев у JelteF.\n"
     ]
    }
   ],
   "source": [
    "# поиск пользователя с максимальным кол-вом репозиториев\n",
    "max_user = max(users, key=(lambda user: len(users_repos[user])))\n",
    "max_repos = len(users_repos[max_user])\n",
    "\n",
    "print()\n",
    "print('Больше всего ({}) репозиториев у {}.'.format(max_repos, max_user))"
   ]
  },
  {
   "cell_type": "code",
   "execution_count": 16,
   "metadata": {},
   "outputs": [
    {
     "name": "stdout",
     "output_type": "stream",
     "text": [
      "Самый популярный язык – Python.\n"
     ]
    }
   ],
   "source": [
    "# поиск самого популярного языка\n",
    "all_users_languages = sum((Counter(count_languages(users_repos[user])) for user in users), Counter())\n",
    "\n",
    "'''\n",
    "all_users_languages = Counter()\n",
    "for user in users:\n",
    "    curr_languages = count_languages(users_repos[user])\n",
    "    all_users_languages += Counter(curr_languages)\n",
    "'''\n",
    "\n",
    "max_lang = max(all_users_languages, key=all_users_languages.get)\n",
    "max_uses = all_users_languages[max_lang]\n",
    "print('Самый популярный язык – {}.'.format(max_lang))"
   ]
  },
  {
   "cell_type": "code",
   "execution_count": 17,
   "metadata": {},
   "outputs": [
    {
     "name": "stdout",
     "output_type": "stream",
     "text": [
      "Больше всего подписчиков (793) у timgraham\n"
     ]
    }
   ],
   "source": [
    "# поиск наибольшего кол-ва подписчиков\n",
    "max_followers = 0\n",
    "max_user = ''\n",
    "for user in users:\n",
    "    curr_followers = get_followers(user)\n",
    "    if len(curr_followers) > max_followers:\n",
    "        max_followers = len(curr_followers)\n",
    "        max_user = user\n",
    "print('Больше всего подписчиков ({}) у {}'.format(max_followers, max_user))\n"
   ]
  },
  {
   "cell_type": "code",
   "execution_count": null,
   "metadata": {},
   "outputs": [],
   "source": []
  }
 ],
 "metadata": {
  "kernelspec": {
   "display_name": "Python 3",
   "language": "python",
   "name": "python3"
  },
  "language_info": {
   "codemirror_mode": {
    "name": "ipython",
    "version": 3
   },
   "file_extension": ".py",
   "mimetype": "text/x-python",
   "name": "python",
   "nbconvert_exporter": "python",
   "pygments_lexer": "ipython3",
   "version": "3.6.1"
  }
 },
 "nbformat": 4,
 "nbformat_minor": 2
}
